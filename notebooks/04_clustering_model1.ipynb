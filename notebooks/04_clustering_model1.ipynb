{
 "cells": [
  {
   "cell_type": "code",
   "execution_count": 3,
   "metadata": {},
   "outputs": [],
   "source": [
    "import pandas as pd\n",
    "import numpy as np\n",
    "from sklearn.cluster import AgglomerativeClustering\n",
    "import matplotlib.pyplot as plt\n",
    "from scipy.cluster.hierarchy import dendrogram, linkage\n",
    "from pathlib import Path\n",
    "from sklearn.metrics import silhouette_score, davies_bouldin_score\n",
    "from sklearn.preprocessing import StandardScaler\n",
    "import joblib"
   ]
  },
  {
   "cell_type": "code",
   "execution_count": null,
   "metadata": {},
   "outputs": [],
   "source": [
    "import warnings\n",
    "warnings.filterwarnings(\"ignore\", category=DeprecationWarning)\n",
    "warnings.filterwarnings(\"ignore\", category=FutureWarning)\n",
    "warnings.filterwarnings(\"ignore\", category=UserWarning)"
   ]
  },
  {
   "cell_type": "code",
   "execution_count": 4,
   "metadata": {},
   "outputs": [],
   "source": [
    "path = Path(r\"../data/03_processed/01_ready_data.csv\")\n",
    "data = pd.read_csv(path)"
   ]
  },
  {
   "cell_type": "code",
   "execution_count": 5,
   "metadata": {},
   "outputs": [],
   "source": [
    "data.head()\n",
    "df = data.drop(columns=[\"ID\", \"Adres e-mail\", \"Nazwa\"])"
   ]
  },
  {
   "cell_type": "code",
   "execution_count": 6,
   "metadata": {},
   "outputs": [],
   "source": [
    "skills_data = df.values"
   ]
  },
  {
   "cell_type": "code",
   "execution_count": 7,
   "metadata": {},
   "outputs": [
    {
     "name": "stdout",
     "output_type": "stream",
     "text": [
      "Method: ward, Silhouette Score: 0.1287671533955062, Davies-Bouldin Index: 1.3616738550311849\n",
      "Method: complete, Silhouette Score: 0.11081611690665934, Davies-Bouldin Index: 1.3944913995452068\n",
      "Method: average, Silhouette Score: 0.13322464538759476, Davies-Bouldin Index: 1.222994962177213\n",
      "Method: single, Silhouette Score: -0.007093504421159265, Davies-Bouldin Index: 0.8091567026137516\n"
     ]
    },
    {
     "name": "stderr",
     "output_type": "stream",
     "text": [
      "c:\\Users\\glabm\\anaconda3\\Lib\\site-packages\\sklearn\\cluster\\_agglomerative.py:983: FutureWarning: Attribute `affinity` was deprecated in version 1.2 and will be removed in 1.4. Use `metric` instead\n",
      "  warnings.warn(\n",
      "c:\\Users\\glabm\\anaconda3\\Lib\\site-packages\\sklearn\\cluster\\_agglomerative.py:983: FutureWarning: Attribute `affinity` was deprecated in version 1.2 and will be removed in 1.4. Use `metric` instead\n",
      "  warnings.warn(\n",
      "c:\\Users\\glabm\\anaconda3\\Lib\\site-packages\\sklearn\\cluster\\_agglomerative.py:983: FutureWarning: Attribute `affinity` was deprecated in version 1.2 and will be removed in 1.4. Use `metric` instead\n",
      "  warnings.warn(\n",
      "c:\\Users\\glabm\\anaconda3\\Lib\\site-packages\\sklearn\\cluster\\_agglomerative.py:983: FutureWarning: Attribute `affinity` was deprecated in version 1.2 and will be removed in 1.4. Use `metric` instead\n",
      "  warnings.warn(\n"
     ]
    }
   ],
   "source": [
    "methods = ['ward', 'complete', 'average', 'single']\n",
    "for method in methods:\n",
    "    hierarchical_clustering = AgglomerativeClustering(n_clusters=10, affinity='euclidean', linkage=method)\n",
    "    labels = hierarchical_clustering.fit_predict(skills_data)\n",
    "    silhouette_avg = silhouette_score(skills_data, labels)\n",
    "    davies_bouldin_avg = davies_bouldin_score(skills_data, labels)\n",
    "    print(f'Method: {method}, Silhouette Score: {silhouette_avg}, Davies-Bouldin Index: {davies_bouldin_avg}')"
   ]
  },
  {
   "cell_type": "code",
   "execution_count": 8,
   "metadata": {},
   "outputs": [
    {
     "name": "stdout",
     "output_type": "stream",
     "text": [
      "cluster\n",
      "3    24\n",
      "2    13\n",
      "4    10\n",
      "0     6\n",
      "1     6\n",
      "Name: count, dtype: int64\n"
     ]
    },
    {
     "name": "stderr",
     "output_type": "stream",
     "text": [
      "c:\\Users\\glabm\\anaconda3\\Lib\\site-packages\\sklearn\\cluster\\_agglomerative.py:983: FutureWarning: Attribute `affinity` was deprecated in version 1.2 and will be removed in 1.4. Use `metric` instead\n",
      "  warnings.warn(\n"
     ]
    }
   ],
   "source": [
    "hierarchical_clustering = AgglomerativeClustering(n_clusters=5, affinity='euclidean', linkage='ward')\n",
    "labels = hierarchical_clustering.fit_predict(skills_data)\n",
    "\n",
    "data['cluster'] = labels\n",
    "unique_labels = set(labels)\n",
    "print(data['cluster'].value_counts())"
   ]
  },
  {
   "cell_type": "code",
   "execution_count": 9,
   "metadata": {},
   "outputs": [
    {
     "data": {
      "image/png": "[encoded data removed]",
      "text/plain": [
       "<Figure size 1000x700 with 1 Axes>"
      ]
     },
     "metadata": {},
     "output_type": "display_data"
    },
    {
     "name": "stdout",
     "output_type": "stream",
     "text": [
      "Etykiety klastrów: [0 3 4 3 3 3 2 4 3 2 2 3 4 2 4 0 4 1 1 3 4 2 3 3 3 2 3 3 3 0 3 3 1 2 2 4 0\n",
      " 2 3 1 2 3 2 4 2 3 2 0 4 3 4 3 1 3 0 1 3 3 3]\n"
     ]
    }
   ],
   "source": [
    "colors = [plt.cm.Spectral(each)\n",
    "          for each in np.linspace(0, 1, len(unique_labels))]\n",
    "\n",
    "linked = linkage(skills_data, method='ward')\n",
    "\n",
    "plt.figure(figsize=(10, 7))\n",
    "dendrogram(linked,\n",
    "            orientation='top',\n",
    "            distance_sort='descending',\n",
    "            show_leaf_counts=True)\n",
    "plt.title('Dendrogram')\n",
    "plt.show()\n",
    "\n",
    "print(\"Etykiety klastrów:\", labels)"
   ]
  },
  {
   "cell_type": "code",
   "execution_count": 10,
   "metadata": {},
   "outputs": [
    {
     "name": "stdout",
     "output_type": "stream",
     "text": [
      "Średnia wartość silhouette_score: 0.13813970751428342\n",
      "Średnia wartość davies_bouldin_score: 1.9576635080116265\n"
     ]
    }
   ],
   "source": [
    "silhouette_avg = silhouette_score(skills_data, labels)\n",
    "davies_bouldin_avg = davies_bouldin_score(skills_data, labels)\n",
    "\n",
    "print(\"Średnia wartość silhouette_score:\", silhouette_avg)\n",
    "print(\"Średnia wartość davies_bouldin_score:\", davies_bouldin_avg)"
   ]
  },
  {
   "cell_type": "code",
   "execution_count": 11,
   "metadata": {},
   "outputs": [
    {
     "name": "stdout",
     "output_type": "stream",
     "text": [
      "Klaster 0\n",
      "    ID Adres e-mail  Nazwa  W jaki sposób chcesz uczestniczyć w Community?  \\\n",
      "0    1    anonymous    NaN                                               1   \n",
      "15  17    anonymous    NaN                                               1   \n",
      "29  31    anonymous    NaN                                               0   \n",
      "36  38    anonymous    NaN                                               1   \n",
      "47  51    anonymous    NaN                                               0   \n",
      "54  59    anonymous    NaN                                               1   \n",
      "\n",
      "      R  Python  Bash  GIT  Docker  CLI  ...  FinTech  HealthTech  \\\n",
      "0   2.0     3.0   3.0  4.0     3.0  4.0  ...      3.0         2.0   \n",
      "15  4.0     4.0   3.0  4.0     4.0  3.0  ...      3.0         2.0   \n",
      "29  1.0     4.0   4.0  4.0     4.0  4.0  ...      0.0         0.0   \n",
      "36  4.0     2.0   2.0  4.0     3.0  3.0  ...      2.0         2.0   \n",
      "47  1.0     4.0   3.0  4.0     4.0  4.0  ...      1.0         4.0   \n",
      "54  2.0     4.0   4.0  4.0     3.0  4.0  ...      4.0         3.0   \n",
      "\n",
      "    FashionTech  Ecommerce  SportTech  NonProfit  PropTech  Cybersecurity  \\\n",
      "0           3.0        3.0        3.0        2.0       3.0            2.0   \n",
      "15          2.0        4.0        2.0        3.0       2.0            2.0   \n",
      "29          0.0        2.0        0.0        0.0       0.0            0.0   \n",
      "36          0.0        1.0        0.0        2.0       0.0            2.0   \n",
      "47          0.0        1.0        1.0        1.0       0.0            1.0   \n",
      "54          0.0        1.0        1.0        1.0       1.0            3.0   \n",
      "\n",
      "     HR  cluster  \n",
      "0   2.0        0  \n",
      "15  3.0        0  \n",
      "29  0.0        0  \n",
      "36  1.0        0  \n",
      "47  0.0        0  \n",
      "54  1.0        0  \n",
      "\n",
      "[6 rows x 40 columns]\n",
      "Klaster 1\n",
      "    ID Adres e-mail  Nazwa  W jaki sposób chcesz uczestniczyć w Community?  \\\n",
      "17  19    anonymous    NaN                                               0   \n",
      "18  20    anonymous    NaN                                               0   \n",
      "32  34    anonymous    NaN                                               0   \n",
      "39  43    anonymous    NaN                                               1   \n",
      "52  57    anonymous    NaN                                               1   \n",
      "55  61    anonymous    NaN                                               0   \n",
      "\n",
      "      R  Python  Bash  GIT  Docker  CLI  ...  FinTech  HealthTech  \\\n",
      "17  2.0     2.0   2.0  3.0     2.0  2.0  ...      0.0         0.0   \n",
      "18  1.0     3.0   1.0  1.0     1.0  1.0  ...      0.0         0.0   \n",
      "32  1.0     3.0   3.0  3.0     3.0  3.0  ...      0.0         0.0   \n",
      "39  2.0     2.0   0.0  2.0     0.0  0.0  ...      0.0         0.0   \n",
      "52  0.0     4.0   0.0  4.0     0.0  0.0  ...      0.0         0.0   \n",
      "55  1.0     2.0   0.0  2.0     0.0  0.0  ...      0.0         0.0   \n",
      "\n",
      "    FashionTech  Ecommerce  SportTech  NonProfit  PropTech  Cybersecurity  \\\n",
      "17          0.0        0.0        0.0        0.0       0.0            0.0   \n",
      "18          0.0        0.0        0.0        0.0       0.0            0.0   \n",
      "32          0.0        0.0        0.0        0.0       0.0            0.0   \n",
      "39          0.0        0.0        0.0        0.0       0.0            0.0   \n",
      "52          0.0        0.0        0.0        0.0       0.0            0.0   \n",
      "55          0.0        0.0        0.0        0.0       0.0            0.0   \n",
      "\n",
      "     HR  cluster  \n",
      "17  0.0        1  \n",
      "18  0.0        1  \n",
      "32  0.0        1  \n",
      "39  0.0        1  \n",
      "52  0.0        1  \n",
      "55  0.0        1  \n",
      "\n",
      "[6 rows x 40 columns]\n",
      "Klaster 2\n",
      "    ID Adres e-mail  Nazwa  W jaki sposób chcesz uczestniczyć w Community?  \\\n",
      "6    7    anonymous    NaN                                               0   \n",
      "9   11    anonymous    NaN                                               0   \n",
      "10  12    anonymous    NaN                                               0   \n",
      "13  15    anonymous    NaN                                               0   \n",
      "21  23    anonymous    NaN                                               1   \n",
      "25  27    anonymous    NaN                                               0   \n",
      "33  35    anonymous    NaN                                               1   \n",
      "34  36    anonymous    NaN                                               1   \n",
      "37  41    anonymous    NaN                                               1   \n",
      "40  44    anonymous    NaN                                               0   \n",
      "\n",
      "      R  Python  Bash  GIT  Docker  CLI  ...  FinTech  HealthTech  \\\n",
      "6   2.0     3.0   2.0  2.0     2.0  2.0  ...      2.0         0.0   \n",
      "9   2.0     2.0   1.0  2.0     0.0  2.0  ...      3.0         2.0   \n",
      "10  0.0     2.0   0.0  3.0     0.0  1.0  ...      2.0         2.0   \n",
      "13  2.0     2.0   0.0  0.0     0.0  0.0  ...      2.0         2.0   \n",
      "21  1.0     2.0   1.0  2.0     1.0  1.0  ...      2.0         1.0   \n",
      "25  2.0     2.0   0.0  2.0     1.0  1.0  ...      2.0         2.0   \n",
      "33  1.0     2.0   0.0  0.0     0.0  0.0  ...      1.0         1.0   \n",
      "34  0.0     2.0   0.0  0.0     0.0  0.0  ...      2.0         2.0   \n",
      "37  2.0     3.0   2.0  2.0     2.0  2.0  ...      0.0         2.0   \n",
      "40  2.0     2.0   0.0  0.0     0.0  1.0  ...      2.0         2.0   \n",
      "\n",
      "    FashionTech  Ecommerce  SportTech  NonProfit  PropTech  Cybersecurity  \\\n",
      "6           1.0        1.0        1.0        2.0       1.0            1.0   \n",
      "9           1.0        2.0        2.0        2.0       2.0            2.0   \n",
      "10          2.0        3.0        2.0        2.0       2.0            2.0   \n",
      "13          1.0        3.0        2.0        3.0       1.0            2.0   \n",
      "21          2.0        2.0        1.0        1.0       2.0            1.0   \n",
      "25          2.0        3.0        3.0        1.0       2.0            2.0   \n",
      "33          1.0        3.0        1.0        1.0       1.0            1.0   \n",
      "34          2.0        2.0        2.0        3.0       2.0            2.0   \n",
      "37          0.0        1.0        2.0        0.0       2.0            2.0   \n",
      "40          3.0        3.0        2.0        2.0       1.0            2.0   \n",
      "\n",
      "     HR  cluster  \n",
      "6   1.0        2  \n",
      "9   1.0        2  \n",
      "10  2.0        2  \n",
      "13  1.0        2  \n",
      "21  2.0        2  \n",
      "25  1.0        2  \n",
      "33  1.0        2  \n",
      "34  3.0        2  \n",
      "37  1.0        2  \n",
      "40  2.0        2  \n",
      "\n",
      "[10 rows x 40 columns]\n",
      "Klaster 3\n",
      "    ID Adres e-mail  Nazwa  W jaki sposób chcesz uczestniczyć w Community?  \\\n",
      "1    2    anonymous    NaN                                               0   \n",
      "3    4    anonymous    NaN                                               1   \n",
      "4    5    anonymous    NaN                                               1   \n",
      "5    6    anonymous    NaN                                               1   \n",
      "8   10    anonymous    NaN                                               0   \n",
      "11  13    anonymous    NaN                                               0   \n",
      "19  21    anonymous    NaN                                               0   \n",
      "22  24    anonymous    NaN                                               1   \n",
      "23  25    anonymous    NaN                                               1   \n",
      "24  26    anonymous    NaN                                               1   \n",
      "\n",
      "      R  Python  Bash  GIT  Docker  CLI  ...  FinTech  HealthTech  \\\n",
      "1   3.0     3.0   1.0  3.0     2.0  2.0  ...      2.0         2.0   \n",
      "3   3.0     3.0   2.0  2.0     2.0  2.0  ...      3.0         2.0   \n",
      "4   3.0     3.0   2.0  2.0     2.0  2.0  ...      3.0         3.0   \n",
      "5   1.0     3.0   2.0  2.0     2.0  2.0  ...      4.0         2.0   \n",
      "8   1.0     3.0   2.0  2.0     2.0  2.0  ...      2.0         2.0   \n",
      "11  3.0     3.0   2.0  3.0     2.0  2.0  ...      3.0         2.0   \n",
      "19  2.0     3.0   2.0  3.0     2.0  2.0  ...      2.0         2.0   \n",
      "22  2.0     3.0   2.0  2.0     2.0  2.0  ...      2.0         2.0   \n",
      "23  2.0     3.0   3.0  3.0     2.0  3.0  ...      2.0         3.0   \n",
      "24  1.0     2.0   1.0  2.0     1.0  1.0  ...      2.0         2.0   \n",
      "\n",
      "    FashionTech  Ecommerce  SportTech  NonProfit  PropTech  Cybersecurity  \\\n",
      "1           2.0        2.0        2.0        2.0       2.0            2.0   \n",
      "3           2.0        3.0        1.0        3.0       1.0            2.0   \n",
      "4           1.0        1.0        1.0        2.0       1.0            1.0   \n",
      "5           1.0        2.0        1.0        2.0       3.0            2.0   \n",
      "8           2.0        2.0        2.0        2.0       2.0            2.0   \n",
      "11          2.0        2.0        2.0        2.0       2.0            1.0   \n",
      "19          0.0        2.0        0.0        2.0       0.0            2.0   \n",
      "22          2.0        2.0        2.0        2.0       2.0            2.0   \n",
      "23          2.0        2.0        1.0        2.0       2.0            3.0   \n",
      "24          2.0        2.0        3.0        1.0       1.0            2.0   \n",
      "\n",
      "     HR  cluster  \n",
      "1   2.0        3  \n",
      "3   1.0        3  \n",
      "4   2.0        3  \n",
      "5   1.0        3  \n",
      "8   2.0        3  \n",
      "11  1.0        3  \n",
      "19  1.0        3  \n",
      "22  2.0        3  \n",
      "23  1.0        3  \n",
      "24  1.0        3  \n",
      "\n",
      "[10 rows x 40 columns]\n",
      "Klaster 4\n",
      "    ID Adres e-mail  Nazwa  W jaki sposób chcesz uczestniczyć w Community?  \\\n",
      "2    3    anonymous    NaN                                               0   \n",
      "7    9    anonymous    NaN                                               0   \n",
      "12  14    anonymous    NaN                                               0   \n",
      "14  16    anonymous    NaN                                               0   \n",
      "16  18    anonymous    NaN                                               0   \n",
      "20  22    anonymous    NaN                                               0   \n",
      "35  37    anonymous    NaN                                               0   \n",
      "43  47    anonymous    NaN                                               1   \n",
      "48  52    anonymous    NaN                                               0   \n",
      "50  54    anonymous    NaN                                               0   \n",
      "\n",
      "      R  Python  Bash  GIT  Docker  CLI  ...  FinTech  HealthTech  \\\n",
      "2   0.0     1.0   0.0  1.0     0.0  0.0  ...      3.0         0.0   \n",
      "7   3.0     2.0   0.0  0.0     0.0  0.0  ...      1.0         1.0   \n",
      "12  0.0     2.0   0.0  1.0     0.0  0.0  ...      0.0         1.0   \n",
      "14  2.0     2.0   0.0  0.0     0.0  0.0  ...      1.0         0.0   \n",
      "16  2.0     2.0   0.0  0.0     0.0  1.0  ...      0.0         0.0   \n",
      "20  3.0     2.0   0.0  0.0     0.0  0.0  ...      0.0         0.0   \n",
      "35  1.0     2.0   0.0  0.0     0.0  0.0  ...      2.0         2.0   \n",
      "43  0.0     2.0   0.0  2.0     0.0  0.0  ...      0.0         0.0   \n",
      "48  3.0     2.0   0.0  0.0     0.0  0.0  ...      0.0         0.0   \n",
      "50  3.0     2.0   0.0  0.0     0.0  0.0  ...      0.0         0.0   \n",
      "\n",
      "    FashionTech  Ecommerce  SportTech  NonProfit  PropTech  Cybersecurity  \\\n",
      "2           0.0        2.0        0.0        1.0       2.0            0.0   \n",
      "7           0.0        2.0        0.0        1.0       0.0            1.0   \n",
      "12          0.0        2.0        0.0        0.0       0.0            0.0   \n",
      "14          0.0        1.0        0.0        0.0       1.0            0.0   \n",
      "16          0.0        0.0        0.0        0.0       0.0            0.0   \n",
      "20          0.0        2.0        0.0        0.0       0.0            2.0   \n",
      "35          1.0        1.0        1.0        1.0       2.0            2.0   \n",
      "43          0.0        0.0        0.0        0.0       3.0            2.0   \n",
      "48          0.0        0.0        0.0        0.0       0.0            0.0   \n",
      "50          1.0        2.0        2.0        1.0       1.0            1.0   \n",
      "\n",
      "     HR  cluster  \n",
      "2   0.0        4  \n",
      "7   1.0        4  \n",
      "12  0.0        4  \n",
      "14  1.0        4  \n",
      "16  0.0        4  \n",
      "20  0.0        4  \n",
      "35  1.0        4  \n",
      "43  0.0        4  \n",
      "48  0.0        4  \n",
      "50  1.0        4  \n",
      "\n",
      "[10 rows x 40 columns]\n"
     ]
    }
   ],
   "source": [
    "for i in range(len(data[\"cluster\"].unique())):\n",
    "    print(\"Klaster\", i)\n",
    "    print(data[data[\"cluster\"] == i].head(10))"
   ]
  },
  {
   "cell_type": "code",
   "execution_count": 14,
   "metadata": {},
   "outputs": [
    {
     "data": {
      "text/plain": [
       "['..\\\\models\\\\04_hierarchical_clustering.pkl']"
      ]
     },
     "execution_count": 14,
     "metadata": {},
     "output_type": "execute_result"
    }
   ],
   "source": [
    "file_path = Path(r\"../models/04_hierarchical_clustering.pkl\")\n",
    "joblib.dump(hierarchical_clustering, file_path)"
   ]
  }
 ],
 "metadata": {
  "kernelspec": {
   "display_name": "Python 3",
   "language": "python",
   "name": "python3"
  },
  "language_info": {
   "codemirror_mode": {
    "name": "ipython",
    "version": 3
   },
   "file_extension": ".py",
   "mimetype": "text/x-python",
   "name": "python",
   "nbconvert_exporter": "python",
   "pygments_lexer": "ipython3",
   "version": "3.11.7"
  }
 },
 "nbformat": 4,
 "nbformat_minor": 2
}
