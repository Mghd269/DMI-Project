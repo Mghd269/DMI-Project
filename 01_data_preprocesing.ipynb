{
 "cells": [
  {
   "cell_type": "code",
   "execution_count": 1,
   "metadata": {},
   "outputs": [],
   "source": [
    "import pandas as pd\n",
    "import numpy as np"
   ]
  },
  {
   "cell_type": "code",
   "execution_count": 7,
   "metadata": {},
   "outputs": [
    {
     "name": "stdout",
     "output_type": "stream",
     "text": [
      "   ID Godzina rozpoczęcia  Godzina ukończenia Adres e-mail  Nazwa  \\\n",
      "0   1 2024-03-05 15:25:52 2024-03-05 15:33:04    anonymous    NaN   \n",
      "1   2 2024-03-05 15:29:46 2024-03-05 15:35:02    anonymous    NaN   \n",
      "2   3 2024-03-05 15:16:30 2024-03-05 15:37:17    anonymous    NaN   \n",
      "3   4 2024-03-05 15:34:17 2024-03-05 15:38:01    anonymous    NaN   \n",
      "4   5 2024-03-05 15:34:26 2024-03-05 15:38:20    anonymous    NaN   \n",
      "\n",
      "   Czas ostatniej modyfikacji  \\\n",
      "0                         NaN   \n",
      "1                         NaN   \n",
      "2                         NaN   \n",
      "3                         NaN   \n",
      "4                         NaN   \n",
      "\n",
      "  Masz jakiś pomysł na projekt data? Napisz nam o tym. Jeżeli to nie ten moment, pozostaw puste pole.  \\\n",
      "0  Projekt \"data\" będący mobilną stacją benzynową...                                                    \n",
      "1                                                NaN                                                    \n",
      "2                                                NaN                                                    \n",
      "3                                                NaN                                                    \n",
      "4  Wirtualni doradcy wpływający na pozytywną zmia...                                                    \n",
      "\n",
      "      W jaki sposób chcesz uczestniczyć w Community?  Programming: R  \\\n",
      "0  Chcę uczestniczyć w projekcie data i organizow...             2.0   \n",
      "1                 Chcę uczestniczyć w projekcie data             3.0   \n",
      "2                 Chcę uczestniczyć w projekcie data             0.0   \n",
      "3  Chcę uczestniczyć w projekcie data i organizow...             3.0   \n",
      "4  Chcę uczestniczyć w projekcie data i organizow...             3.0   \n",
      "\n",
      "   Programming: Python  ...  FinTech  HealthTech  FashionTech  E-commerce  \\\n",
      "0                  3.0  ...      3.0         2.0          3.0         3.0   \n",
      "1                  3.0  ...      2.0         2.0          2.0         2.0   \n",
      "2                  1.0  ...      3.0         0.0          0.0         2.0   \n",
      "3                  3.0  ...      3.0         2.0          2.0         3.0   \n",
      "4                  3.0  ...      3.0         3.0          1.0         1.0   \n",
      "\n",
      "   SportTech  Non-profit  PropTech (nieruchomości)  Cybersecurity   HR  \\\n",
      "0        3.0         2.0                       3.0            2.0  2.0   \n",
      "1        2.0         2.0                       2.0            2.0  2.0   \n",
      "2        0.0         1.0                       2.0            0.0  0.0   \n",
      "3        1.0         3.0                       1.0            2.0  1.0   \n",
      "4        1.0         2.0                       1.0            1.0  2.0   \n",
      "\n",
      "   Jeżeli pominięto branżę, na której się znasz dopisz ją:  \n",
      "0                                                NaN        \n",
      "1                                                NaN        \n",
      "2                                                NaN        \n",
      "3                                                NaN        \n",
      "4                                            LawTech        \n",
      "\n",
      "[5 rows x 45 columns]\n"
     ]
    }
   ],
   "source": [
    "df = pd.read_excel(r\"C:\\Users\\glabm\\Desktop\\Projekt DMI\\MDI-Project\\data\\01_raw\\01_DataCompetencySurvey.xlsx\")\n",
    "df = pd.DataFrame(df)\n",
    "\n",
    "print(df.head(5))"
   ]
  },
  {
   "cell_type": "code",
   "execution_count": 8,
   "metadata": {},
   "outputs": [
    {
     "name": "stdout",
     "output_type": "stream",
     "text": [
      "ID                                                                                                      0\n",
      "Godzina rozpoczęcia                                                                                     0\n",
      "Godzina ukończenia                                                                                      0\n",
      "Adres e-mail                                                                                            0\n",
      "Nazwa                                                                                                  67\n",
      "Czas ostatniej modyfikacji                                                                             67\n",
      "Masz jakiś pomysł na projekt data? Napisz nam o tym. Jeżeli to nie ten moment, pozostaw puste pole.    48\n",
      "W jaki sposób chcesz uczestniczyć w Community?                                                          0\n",
      "Programming: R                                                                                          8\n",
      "Programming: Python                                                                                     8\n",
      "Programming: Bash                                                                                       8\n",
      "Version Control: GIT                                                                                    8\n",
      "Containers: Docker                                                                                      8\n",
      "CLI: (np. Bash, PowerShell, CMD)                                                                        8\n",
      "Front End: (HTML, JavaScript, CSS)                                                                      8\n",
      "Databases: SQL                                                                                          8\n",
      "Databases: NoSQL                                                                                        8\n",
      "Cloud: Azure                                                                                            8\n",
      "Cloud: AWS                                                                                              8\n",
      "Cloud: GPC                                                                                              8\n",
      "BI: PowerBI                                                                                             8\n",
      "BI: Tableau                                                                                             8\n",
      "Area: Time Series                                                                                       8\n",
      "Area: Classical ML (Clustering, Regression, Classification)                                             8\n",
      "Area: NLP                                                                                               8\n",
      "Area: Computer Vision                                                                                   8\n",
      "Project Management                                                                                      7\n",
      "Promocja w Social Media                                                                                 7\n",
      "Ux/Ui                                                                                                   7\n",
      "Projektowanie graficzne                                                                                 7\n",
      "Nawiązywanie Relacji z Biznesem                                                                         7\n",
      "Nawiązywanie Relacji z naukowcami                                                                       7\n",
      "Pozyskiwanie finansowania                                                                               7\n",
      "Współpraca z administracją UEW                                                                          7\n",
      "Jeżeli jest obszar, na którym się znasz i chcesz go wykorzystać, dopisz go:                            54\n",
      "FinTech                                                                                                 7\n",
      "HealthTech                                                                                              7\n",
      "FashionTech                                                                                             7\n",
      "E-commerce                                                                                              7\n",
      "SportTech                                                                                               7\n",
      "Non-profit                                                                                              7\n",
      "PropTech (nieruchomości)                                                                                7\n",
      "Cybersecurity                                                                                           7\n",
      "HR                                                                                                      7\n",
      "Jeżeli pominięto branżę, na której się znasz dopisz ją:                                                57\n",
      "dtype: int64\n"
     ]
    }
   ],
   "source": [
    "print(df.isna().sum())"
   ]
  }
 ],
 "metadata": {
  "kernelspec": {
   "display_name": "base",
   "language": "python",
   "name": "python3"
  },
  "language_info": {
   "codemirror_mode": {
    "name": "ipython",
    "version": 3
   },
   "file_extension": ".py",
   "mimetype": "text/x-python",
   "name": "python",
   "nbconvert_exporter": "python",
   "pygments_lexer": "ipython3",
   "version": "3.11.7"
  }
 },
 "nbformat": 4,
 "nbformat_minor": 2
}
