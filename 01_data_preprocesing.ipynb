{
 "cells": [
  {
   "cell_type": "code",
   "execution_count": 16,
   "metadata": {},
   "outputs": [],
   "source": [
    "import pandas as pd\n",
    "import numpy as np"
   ]
  },
  {
   "cell_type": "code",
   "execution_count": 17,
   "metadata": {},
   "outputs": [],
   "source": [
    "url = 'https://github.com/Mghd269/DMI-Project/raw/main/data/01_raw/01_DataCompetencySurvey.xlsx'\n",
    "df = pd.read_excel(url, engine='openpyxl')\n",
    "df = pd.DataFrame(df)"
   ]
  },
  {
   "cell_type": "code",
   "execution_count": 18,
   "metadata": {},
   "outputs": [
    {
     "name": "stdout",
     "output_type": "stream",
     "text": [
      "ID                                                                                                      0\n",
      "Godzina rozpoczęcia                                                                                     0\n",
      "Godzina ukończenia                                                                                      0\n",
      "Adres e-mail                                                                                            0\n",
      "Nazwa                                                                                                  67\n",
      "Czas ostatniej modyfikacji                                                                             67\n",
      "Masz jakiś pomysł na projekt data? Napisz nam o tym. Jeżeli to nie ten moment, pozostaw puste pole.    48\n",
      "W jaki sposób chcesz uczestniczyć w Community?                                                          0\n",
      "Programming: R                                                                                          8\n",
      "Programming: Python                                                                                     8\n",
      "Programming: Bash                                                                                       8\n",
      "Version Control: GIT                                                                                    8\n",
      "Containers: Docker                                                                                      8\n",
      "CLI: (np. Bash, PowerShell, CMD)                                                                        8\n",
      "Front End: (HTML, JavaScript, CSS)                                                                      8\n",
      "Databases: SQL                                                                                          8\n",
      "Databases: NoSQL                                                                                        8\n",
      "Cloud: Azure                                                                                            8\n",
      "Cloud: AWS                                                                                              8\n",
      "Cloud: GPC                                                                                              8\n",
      "BI: PowerBI                                                                                             8\n",
      "BI: Tableau                                                                                             8\n",
      "Area: Time Series                                                                                       8\n",
      "Area: Classical ML (Clustering, Regression, Classification)                                             8\n",
      "Area: NLP                                                                                               8\n",
      "Area: Computer Vision                                                                                   8\n",
      "Project Management                                                                                      7\n",
      "Promocja w Social Media                                                                                 7\n",
      "Ux/Ui                                                                                                   7\n",
      "Projektowanie graficzne                                                                                 7\n",
      "Nawiązywanie Relacji z Biznesem                                                                         7\n",
      "Nawiązywanie Relacji z naukowcami                                                                       7\n",
      "Pozyskiwanie finansowania                                                                               7\n",
      "Współpraca z administracją UEW                                                                          7\n",
      "Jeżeli jest obszar, na którym się znasz i chcesz go wykorzystać, dopisz go:                            54\n",
      "FinTech                                                                                                 7\n",
      "HealthTech                                                                                              7\n",
      "FashionTech                                                                                             7\n",
      "E-commerce                                                                                              7\n",
      "SportTech                                                                                               7\n",
      "Non-profit                                                                                              7\n",
      "PropTech (nieruchomości)                                                                                7\n",
      "Cybersecurity                                                                                           7\n",
      "HR                                                                                                      7\n",
      "Jeżeli pominięto branżę, na której się znasz dopisz ją:                                                57\n",
      "dtype: int64\n"
     ]
    }
   ],
   "source": [
    "print(df.isna().sum())"
   ]
  },
  {
   "cell_type": "code",
   "execution_count": 19,
   "metadata": {},
   "outputs": [
    {
     "data": {
      "text/plain": [
       "ID                                                                                                      0\n",
       "Godzina rozpoczęcia                                                                                     0\n",
       "Godzina ukończenia                                                                                      0\n",
       "Adres e-mail                                                                                            0\n",
       "Nazwa                                                                                                  60\n",
       "Czas ostatniej modyfikacji                                                                             60\n",
       "Masz jakiś pomysł na projekt data? Napisz nam o tym. Jeżeli to nie ten moment, pozostaw puste pole.    42\n",
       "W jaki sposób chcesz uczestniczyć w Community?                                                          0\n",
       "Programming: R                                                                                          1\n",
       "Programming: Python                                                                                     1\n",
       "Programming: Bash                                                                                       1\n",
       "Version Control: GIT                                                                                    1\n",
       "Containers: Docker                                                                                      1\n",
       "CLI: (np. Bash, PowerShell, CMD)                                                                        1\n",
       "Front End: (HTML, JavaScript, CSS)                                                                      1\n",
       "Databases: SQL                                                                                          1\n",
       "Databases: NoSQL                                                                                        1\n",
       "Cloud: Azure                                                                                            1\n",
       "Cloud: AWS                                                                                              1\n",
       "Cloud: GPC                                                                                              1\n",
       "BI: PowerBI                                                                                             1\n",
       "BI: Tableau                                                                                             1\n",
       "Area: Time Series                                                                                       1\n",
       "Area: Classical ML (Clustering, Regression, Classification)                                             1\n",
       "Area: NLP                                                                                               1\n",
       "Area: Computer Vision                                                                                   1\n",
       "Project Management                                                                                      0\n",
       "Promocja w Social Media                                                                                 0\n",
       "Ux/Ui                                                                                                   0\n",
       "Projektowanie graficzne                                                                                 0\n",
       "Nawiązywanie Relacji z Biznesem                                                                         0\n",
       "Nawiązywanie Relacji z naukowcami                                                                       0\n",
       "Pozyskiwanie finansowania                                                                               0\n",
       "Współpraca z administracją UEW                                                                          0\n",
       "Jeżeli jest obszar, na którym się znasz i chcesz go wykorzystać, dopisz go:                            47\n",
       "FinTech                                                                                                 0\n",
       "HealthTech                                                                                              0\n",
       "FashionTech                                                                                             0\n",
       "E-commerce                                                                                              0\n",
       "SportTech                                                                                               0\n",
       "Non-profit                                                                                              0\n",
       "PropTech (nieruchomości)                                                                                0\n",
       "Cybersecurity                                                                                           0\n",
       "HR                                                                                                      0\n",
       "Jeżeli pominięto branżę, na której się znasz dopisz ją:                                                50\n",
       "dtype: int64"
      ]
     },
     "execution_count": 19,
     "metadata": {},
     "output_type": "execute_result"
    }
   ],
   "source": [
    "df['W jaki sposób chcesz uczestniczyć w Community?'].value_counts()\n",
    "filtered_df1 = df[df['W jaki sposób chcesz uczestniczyć w Community?'] == 'Póki co chcę czerpać, obserwować, \"konsumować content\"']\n",
    "\n",
    "filtered_df = df.drop(filtered_df1.index)\n",
    "filtered_df.isna().sum()"
   ]
  },
  {
   "cell_type": "code",
   "execution_count": 22,
   "metadata": {},
   "outputs": [],
   "source": [
    "new_df = filtered_df.drop(['Godzina rozpoczęcia', 'Godzina ukończenia', 'Czas ostatniej modyfikacji'], axis=1)\n",
    "\n",
    "new_df.head()\n",
    "new_df.isna().sum()\n",
    "record = new_df.loc[new_df['Programming: R'].isna()] # Record with missing values"
   ]
  },
  {
   "cell_type": "code",
   "execution_count": 23,
   "metadata": {},
   "outputs": [
    {
     "data": {
      "text/html": [
       "<div>\n",
       "<style scoped>\n",
       "    .dataframe tbody tr th:only-of-type {\n",
       "        vertical-align: middle;\n",
       "    }\n",
       "\n",
       "    .dataframe tbody tr th {\n",
       "        vertical-align: top;\n",
       "    }\n",
       "\n",
       "    .dataframe thead th {\n",
       "        text-align: right;\n",
       "    }\n",
       "</style>\n",
       "<table border=\"1\" class=\"dataframe\">\n",
       "  <thead>\n",
       "    <tr style=\"text-align: right;\">\n",
       "      <th></th>\n",
       "      <th>ID</th>\n",
       "      <th>Adres e-mail</th>\n",
       "      <th>Nazwa</th>\n",
       "      <th>Masz jakiś pomysł na projekt data? Napisz nam o tym. Jeżeli to nie ten moment, pozostaw puste pole.</th>\n",
       "      <th>W jaki sposób chcesz uczestniczyć w Community?</th>\n",
       "      <th>Programming: R</th>\n",
       "      <th>Programming: Python</th>\n",
       "      <th>Programming: Bash</th>\n",
       "      <th>Version Control: GIT</th>\n",
       "      <th>Containers: Docker</th>\n",
       "      <th>...</th>\n",
       "      <th>FinTech</th>\n",
       "      <th>HealthTech</th>\n",
       "      <th>FashionTech</th>\n",
       "      <th>E-commerce</th>\n",
       "      <th>SportTech</th>\n",
       "      <th>Non-profit</th>\n",
       "      <th>PropTech (nieruchomości)</th>\n",
       "      <th>Cybersecurity</th>\n",
       "      <th>HR</th>\n",
       "      <th>Jeżeli pominięto branżę, na której się znasz dopisz ją:</th>\n",
       "    </tr>\n",
       "  </thead>\n",
       "  <tbody>\n",
       "    <tr>\n",
       "      <th>61</th>\n",
       "      <td>62</td>\n",
       "      <td>anonymous</td>\n",
       "      <td>NaN</td>\n",
       "      <td>Swarm wirtualnych asystentów do pisania kodu w...</td>\n",
       "      <td>Chcę organizować \"życie\" Community</td>\n",
       "      <td>NaN</td>\n",
       "      <td>NaN</td>\n",
       "      <td>NaN</td>\n",
       "      <td>NaN</td>\n",
       "      <td>NaN</td>\n",
       "      <td>...</td>\n",
       "      <td>3.0</td>\n",
       "      <td>3.0</td>\n",
       "      <td>1.0</td>\n",
       "      <td>2.0</td>\n",
       "      <td>1.0</td>\n",
       "      <td>1.0</td>\n",
       "      <td>0.0</td>\n",
       "      <td>3.0</td>\n",
       "      <td>1.0</td>\n",
       "      <td>NaN</td>\n",
       "    </tr>\n",
       "  </tbody>\n",
       "</table>\n",
       "<p>1 rows × 42 columns</p>\n",
       "</div>"
      ],
      "text/plain": [
       "    ID Adres e-mail  Nazwa  \\\n",
       "61  62    anonymous    NaN   \n",
       "\n",
       "   Masz jakiś pomysł na projekt data? Napisz nam o tym. Jeżeli to nie ten moment, pozostaw puste pole.  \\\n",
       "61  Swarm wirtualnych asystentów do pisania kodu w...                                                    \n",
       "\n",
       "   W jaki sposób chcesz uczestniczyć w Community?  Programming: R  \\\n",
       "61             Chcę organizować \"życie\" Community             NaN   \n",
       "\n",
       "    Programming: Python  Programming: Bash  Version Control: GIT  \\\n",
       "61                  NaN                NaN                   NaN   \n",
       "\n",
       "    Containers: Docker  ...  FinTech  HealthTech  FashionTech  E-commerce  \\\n",
       "61                 NaN  ...      3.0         3.0          1.0         2.0   \n",
       "\n",
       "    SportTech  Non-profit  PropTech (nieruchomości)  Cybersecurity   HR  \\\n",
       "61        1.0         1.0                       0.0            3.0  1.0   \n",
       "\n",
       "    Jeżeli pominięto branżę, na której się znasz dopisz ją:  \n",
       "61                                                NaN        \n",
       "\n",
       "[1 rows x 42 columns]"
      ]
     },
     "execution_count": 23,
     "metadata": {},
     "output_type": "execute_result"
    }
   ],
   "source": [
    "record"
   ]
  }
 ],
 "metadata": {
  "kernelspec": {
   "display_name": "base",
   "language": "python",
   "name": "python3"
  },
  "language_info": {
   "codemirror_mode": {
    "name": "ipython",
    "version": 3
   },
   "file_extension": ".py",
   "mimetype": "text/x-python",
   "name": "python",
   "nbconvert_exporter": "python",
   "pygments_lexer": "ipython3",
   "version": "3.11.7"
  }
 },
 "nbformat": 4,
 "nbformat_minor": 2
}
