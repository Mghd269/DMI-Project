{
 "cells": [
  {
   "cell_type": "code",
   "execution_count": null,
   "metadata": {},
   "outputs": [],
   "source": [
    "import pandas as pd\n",
    "import numpy as np"
   ]
  },
  {
   "cell_type": "code",
   "execution_count": 10,
   "metadata": {},
   "outputs": [
    {
     "ename": "FileNotFoundError",
     "evalue": "[Errno 2] No such file or directory: 'C:\\\\Users\\\\glabm\\\\Desktop\\\\Projekt DMI\\\\MDI-Project\\\\data\\\\01_raw\\\\01_DataCompetencySurvey.xlsx'",
     "output_type": "error",
     "traceback": [
      "\u001b[1;31m---------------------------------------------------------------------------\u001b[0m",
      "\u001b[1;31mFileNotFoundError\u001b[0m                         Traceback (most recent call last)",
      "Cell \u001b[1;32mIn[10], line 1\u001b[0m\n\u001b[1;32m----> 1\u001b[0m df \u001b[38;5;241m=\u001b[39m pd\u001b[38;5;241m.\u001b[39mread_excel(\u001b[38;5;124mr\u001b[39m\u001b[38;5;124m\"\u001b[39m\u001b[38;5;124mC:\u001b[39m\u001b[38;5;124m\\\u001b[39m\u001b[38;5;124mUsers\u001b[39m\u001b[38;5;124m\\\u001b[39m\u001b[38;5;124mglabm\u001b[39m\u001b[38;5;124m\\\u001b[39m\u001b[38;5;124mDesktop\u001b[39m\u001b[38;5;124m\\\u001b[39m\u001b[38;5;124mProjekt DMI\u001b[39m\u001b[38;5;124m\\\u001b[39m\u001b[38;5;124mMDI-Project\u001b[39m\u001b[38;5;124m\\\u001b[39m\u001b[38;5;124mdata\u001b[39m\u001b[38;5;124m\\\u001b[39m\u001b[38;5;124m01_raw\u001b[39m\u001b[38;5;124m\\\u001b[39m\u001b[38;5;124m01_DataCompetencySurvey.xlsx\u001b[39m\u001b[38;5;124m\"\u001b[39m)\n\u001b[0;32m      2\u001b[0m df \u001b[38;5;241m=\u001b[39m pd\u001b[38;5;241m.\u001b[39mDataFrame(df)\n\u001b[0;32m      4\u001b[0m \u001b[38;5;28mprint\u001b[39m(df\u001b[38;5;241m.\u001b[39mhead(\u001b[38;5;241m5\u001b[39m))\n",
      "File \u001b[1;32mc:\\Users\\glabm\\anaconda3\\Lib\\site-packages\\pandas\\io\\excel\\_base.py:504\u001b[0m, in \u001b[0;36mread_excel\u001b[1;34m(io, sheet_name, header, names, index_col, usecols, dtype, engine, converters, true_values, false_values, skiprows, nrows, na_values, keep_default_na, na_filter, verbose, parse_dates, date_parser, date_format, thousands, decimal, comment, skipfooter, storage_options, dtype_backend, engine_kwargs)\u001b[0m\n\u001b[0;32m    502\u001b[0m \u001b[38;5;28;01mif\u001b[39;00m \u001b[38;5;129;01mnot\u001b[39;00m \u001b[38;5;28misinstance\u001b[39m(io, ExcelFile):\n\u001b[0;32m    503\u001b[0m     should_close \u001b[38;5;241m=\u001b[39m \u001b[38;5;28;01mTrue\u001b[39;00m\n\u001b[1;32m--> 504\u001b[0m     io \u001b[38;5;241m=\u001b[39m ExcelFile(\n\u001b[0;32m    505\u001b[0m         io,\n\u001b[0;32m    506\u001b[0m         storage_options\u001b[38;5;241m=\u001b[39mstorage_options,\n\u001b[0;32m    507\u001b[0m         engine\u001b[38;5;241m=\u001b[39mengine,\n\u001b[0;32m    508\u001b[0m         engine_kwargs\u001b[38;5;241m=\u001b[39mengine_kwargs,\n\u001b[0;32m    509\u001b[0m     )\n\u001b[0;32m    510\u001b[0m \u001b[38;5;28;01melif\u001b[39;00m engine \u001b[38;5;129;01mand\u001b[39;00m engine \u001b[38;5;241m!=\u001b[39m io\u001b[38;5;241m.\u001b[39mengine:\n\u001b[0;32m    511\u001b[0m     \u001b[38;5;28;01mraise\u001b[39;00m \u001b[38;5;167;01mValueError\u001b[39;00m(\n\u001b[0;32m    512\u001b[0m         \u001b[38;5;124m\"\u001b[39m\u001b[38;5;124mEngine should not be specified when passing \u001b[39m\u001b[38;5;124m\"\u001b[39m\n\u001b[0;32m    513\u001b[0m         \u001b[38;5;124m\"\u001b[39m\u001b[38;5;124man ExcelFile - ExcelFile already has the engine set\u001b[39m\u001b[38;5;124m\"\u001b[39m\n\u001b[0;32m    514\u001b[0m     )\n",
      "File \u001b[1;32mc:\\Users\\glabm\\anaconda3\\Lib\\site-packages\\pandas\\io\\excel\\_base.py:1563\u001b[0m, in \u001b[0;36mExcelFile.__init__\u001b[1;34m(self, path_or_buffer, engine, storage_options, engine_kwargs)\u001b[0m\n\u001b[0;32m   1561\u001b[0m     ext \u001b[38;5;241m=\u001b[39m \u001b[38;5;124m\"\u001b[39m\u001b[38;5;124mxls\u001b[39m\u001b[38;5;124m\"\u001b[39m\n\u001b[0;32m   1562\u001b[0m \u001b[38;5;28;01melse\u001b[39;00m:\n\u001b[1;32m-> 1563\u001b[0m     ext \u001b[38;5;241m=\u001b[39m inspect_excel_format(\n\u001b[0;32m   1564\u001b[0m         content_or_path\u001b[38;5;241m=\u001b[39mpath_or_buffer, storage_options\u001b[38;5;241m=\u001b[39mstorage_options\n\u001b[0;32m   1565\u001b[0m     )\n\u001b[0;32m   1566\u001b[0m     \u001b[38;5;28;01mif\u001b[39;00m ext \u001b[38;5;129;01mis\u001b[39;00m \u001b[38;5;28;01mNone\u001b[39;00m:\n\u001b[0;32m   1567\u001b[0m         \u001b[38;5;28;01mraise\u001b[39;00m \u001b[38;5;167;01mValueError\u001b[39;00m(\n\u001b[0;32m   1568\u001b[0m             \u001b[38;5;124m\"\u001b[39m\u001b[38;5;124mExcel file format cannot be determined, you must specify \u001b[39m\u001b[38;5;124m\"\u001b[39m\n\u001b[0;32m   1569\u001b[0m             \u001b[38;5;124m\"\u001b[39m\u001b[38;5;124man engine manually.\u001b[39m\u001b[38;5;124m\"\u001b[39m\n\u001b[0;32m   1570\u001b[0m         )\n",
      "File \u001b[1;32mc:\\Users\\glabm\\anaconda3\\Lib\\site-packages\\pandas\\io\\excel\\_base.py:1419\u001b[0m, in \u001b[0;36minspect_excel_format\u001b[1;34m(content_or_path, storage_options)\u001b[0m\n\u001b[0;32m   1416\u001b[0m \u001b[38;5;28;01mif\u001b[39;00m \u001b[38;5;28misinstance\u001b[39m(content_or_path, \u001b[38;5;28mbytes\u001b[39m):\n\u001b[0;32m   1417\u001b[0m     content_or_path \u001b[38;5;241m=\u001b[39m BytesIO(content_or_path)\n\u001b[1;32m-> 1419\u001b[0m \u001b[38;5;28;01mwith\u001b[39;00m get_handle(\n\u001b[0;32m   1420\u001b[0m     content_or_path, \u001b[38;5;124m\"\u001b[39m\u001b[38;5;124mrb\u001b[39m\u001b[38;5;124m\"\u001b[39m, storage_options\u001b[38;5;241m=\u001b[39mstorage_options, is_text\u001b[38;5;241m=\u001b[39m\u001b[38;5;28;01mFalse\u001b[39;00m\n\u001b[0;32m   1421\u001b[0m ) \u001b[38;5;28;01mas\u001b[39;00m handle:\n\u001b[0;32m   1422\u001b[0m     stream \u001b[38;5;241m=\u001b[39m handle\u001b[38;5;241m.\u001b[39mhandle\n\u001b[0;32m   1423\u001b[0m     stream\u001b[38;5;241m.\u001b[39mseek(\u001b[38;5;241m0\u001b[39m)\n",
      "File \u001b[1;32mc:\\Users\\glabm\\anaconda3\\Lib\\site-packages\\pandas\\io\\common.py:872\u001b[0m, in \u001b[0;36mget_handle\u001b[1;34m(path_or_buf, mode, encoding, compression, memory_map, is_text, errors, storage_options)\u001b[0m\n\u001b[0;32m    863\u001b[0m         handle \u001b[38;5;241m=\u001b[39m \u001b[38;5;28mopen\u001b[39m(\n\u001b[0;32m    864\u001b[0m             handle,\n\u001b[0;32m    865\u001b[0m             ioargs\u001b[38;5;241m.\u001b[39mmode,\n\u001b[1;32m   (...)\u001b[0m\n\u001b[0;32m    868\u001b[0m             newline\u001b[38;5;241m=\u001b[39m\u001b[38;5;124m\"\u001b[39m\u001b[38;5;124m\"\u001b[39m,\n\u001b[0;32m    869\u001b[0m         )\n\u001b[0;32m    870\u001b[0m     \u001b[38;5;28;01melse\u001b[39;00m:\n\u001b[0;32m    871\u001b[0m         \u001b[38;5;66;03m# Binary mode\u001b[39;00m\n\u001b[1;32m--> 872\u001b[0m         handle \u001b[38;5;241m=\u001b[39m \u001b[38;5;28mopen\u001b[39m(handle, ioargs\u001b[38;5;241m.\u001b[39mmode)\n\u001b[0;32m    873\u001b[0m     handles\u001b[38;5;241m.\u001b[39mappend(handle)\n\u001b[0;32m    875\u001b[0m \u001b[38;5;66;03m# Convert BytesIO or file objects passed with an encoding\u001b[39;00m\n",
      "\u001b[1;31mFileNotFoundError\u001b[0m: [Errno 2] No such file or directory: 'C:\\\\Users\\\\glabm\\\\Desktop\\\\Projekt DMI\\\\MDI-Project\\\\data\\\\01_raw\\\\01_DataCompetencySurvey.xlsx'"
     ]
    }
   ],
   "source": [
    "df = pd.read_excel(r\"C:\\Users\\glabm\\Desktop\\Projekt DMI\\MDI-Project\\data\\01_raw\\01_DataCompetencySurvey.xlsx\")\n",
    "df = pd.DataFrame(df)\n",
    "\n",
    "print(df.head(5))"
   ]
  },
  {
   "cell_type": "code",
   "execution_count": null,
   "metadata": {},
   "outputs": [
    {
     "name": "stdout",
     "output_type": "stream",
     "text": [
      "ID                                                                                                      0\n",
      "Godzina rozpoczęcia                                                                                     0\n",
      "Godzina ukończenia                                                                                      0\n",
      "Adres e-mail                                                                                            0\n",
      "Nazwa                                                                                                  67\n",
      "Czas ostatniej modyfikacji                                                                             67\n",
      "Masz jakiś pomysł na projekt data? Napisz nam o tym. Jeżeli to nie ten moment, pozostaw puste pole.    48\n",
      "W jaki sposób chcesz uczestniczyć w Community?                                                          0\n",
      "Programming: R                                                                                          8\n",
      "Programming: Python                                                                                     8\n",
      "Programming: Bash                                                                                       8\n",
      "Version Control: GIT                                                                                    8\n",
      "Containers: Docker                                                                                      8\n",
      "CLI: (np. Bash, PowerShell, CMD)                                                                        8\n",
      "Front End: (HTML, JavaScript, CSS)                                                                      8\n",
      "Databases: SQL                                                                                          8\n",
      "Databases: NoSQL                                                                                        8\n",
      "Cloud: Azure                                                                                            8\n",
      "Cloud: AWS                                                                                              8\n",
      "Cloud: GPC                                                                                              8\n",
      "BI: PowerBI                                                                                             8\n",
      "BI: Tableau                                                                                             8\n",
      "Area: Time Series                                                                                       8\n",
      "Area: Classical ML (Clustering, Regression, Classification)                                             8\n",
      "Area: NLP                                                                                               8\n",
      "Area: Computer Vision                                                                                   8\n",
      "Project Management                                                                                      7\n",
      "Promocja w Social Media                                                                                 7\n",
      "Ux/Ui                                                                                                   7\n",
      "Projektowanie graficzne                                                                                 7\n",
      "Nawiązywanie Relacji z Biznesem                                                                         7\n",
      "Nawiązywanie Relacji z naukowcami                                                                       7\n",
      "Pozyskiwanie finansowania                                                                               7\n",
      "Współpraca z administracją UEW                                                                          7\n",
      "Jeżeli jest obszar, na którym się znasz i chcesz go wykorzystać, dopisz go:                            54\n",
      "FinTech                                                                                                 7\n",
      "HealthTech                                                                                              7\n",
      "FashionTech                                                                                             7\n",
      "E-commerce                                                                                              7\n",
      "SportTech                                                                                               7\n",
      "Non-profit                                                                                              7\n",
      "PropTech (nieruchomości)                                                                                7\n",
      "Cybersecurity                                                                                           7\n",
      "HR                                                                                                      7\n",
      "Jeżeli pominięto branżę, na której się znasz dopisz ją:                                                57\n",
      "dtype: int64\n",
      "Index(['ID', 'Godzina rozpoczęcia', 'Godzina ukończenia', 'Adres e-mail',\n",
      "       'Nazwa', 'Czas ostatniej modyfikacji',\n",
      "       'Masz jakiś pomysł na projekt data? Napisz nam o tym. Jeżeli to nie ten moment, pozostaw puste pole.',\n",
      "       'W jaki sposób chcesz uczestniczyć w Community?', 'Programming: R',\n",
      "       'Programming: Python', 'Programming: Bash', 'Version Control: GIT',\n",
      "       'Containers: Docker', 'CLI: (np. Bash, PowerShell, CMD)',\n",
      "       'Front End: (HTML, JavaScript, CSS)', 'Databases: SQL',\n",
      "       'Databases: NoSQL', 'Cloud: Azure', 'Cloud: AWS', 'Cloud: GPC',\n",
      "       'BI: PowerBI', 'BI: Tableau', 'Area: Time Series',\n",
      "       'Area: Classical ML (Clustering, Regression, Classification)',\n",
      "       'Area: NLP', 'Area: Computer Vision', 'Project Management',\n",
      "       'Promocja w Social Media', 'Ux/Ui', 'Projektowanie graficzne',\n",
      "       'Nawiązywanie Relacji z Biznesem', 'Nawiązywanie Relacji z naukowcami',\n",
      "       'Pozyskiwanie finansowania', 'Współpraca z administracją UEW',\n",
      "       'Jeżeli jest obszar, na którym się znasz i chcesz go wykorzystać, dopisz go:',\n",
      "       'FinTech', 'HealthTech', 'FashionTech', 'E-commerce', 'SportTech',\n",
      "       'Non-profit', 'PropTech (nieruchomości)', 'Cybersecurity', 'HR',\n",
      "       'Jeżeli pominięto branżę, na której się znasz dopisz ją:'],\n",
      "      dtype='object')\n"
     ]
    }
   ],
   "source": [
    "print(df.isna().sum())"
   ]
  },
  {
   "cell_type": "code",
   "execution_count": null,
   "metadata": {},
   "outputs": [
    {
     "data": {
      "text/plain": [
       "ID                                                                                                      0\n",
       "Godzina rozpoczęcia                                                                                     0\n",
       "Godzina ukończenia                                                                                      0\n",
       "Adres e-mail                                                                                            0\n",
       "Nazwa                                                                                                  60\n",
       "Czas ostatniej modyfikacji                                                                             60\n",
       "Masz jakiś pomysł na projekt data? Napisz nam o tym. Jeżeli to nie ten moment, pozostaw puste pole.    42\n",
       "W jaki sposób chcesz uczestniczyć w Community?                                                          0\n",
       "Programming: R                                                                                          1\n",
       "Programming: Python                                                                                     1\n",
       "Programming: Bash                                                                                       1\n",
       "Version Control: GIT                                                                                    1\n",
       "Containers: Docker                                                                                      1\n",
       "CLI: (np. Bash, PowerShell, CMD)                                                                        1\n",
       "Front End: (HTML, JavaScript, CSS)                                                                      1\n",
       "Databases: SQL                                                                                          1\n",
       "Databases: NoSQL                                                                                        1\n",
       "Cloud: Azure                                                                                            1\n",
       "Cloud: AWS                                                                                              1\n",
       "Cloud: GPC                                                                                              1\n",
       "BI: PowerBI                                                                                             1\n",
       "BI: Tableau                                                                                             1\n",
       "Area: Time Series                                                                                       1\n",
       "Area: Classical ML (Clustering, Regression, Classification)                                             1\n",
       "Area: NLP                                                                                               1\n",
       "Area: Computer Vision                                                                                   1\n",
       "Project Management                                                                                      0\n",
       "Promocja w Social Media                                                                                 0\n",
       "Ux/Ui                                                                                                   0\n",
       "Projektowanie graficzne                                                                                 0\n",
       "Nawiązywanie Relacji z Biznesem                                                                         0\n",
       "Nawiązywanie Relacji z naukowcami                                                                       0\n",
       "Pozyskiwanie finansowania                                                                               0\n",
       "Współpraca z administracją UEW                                                                          0\n",
       "Jeżeli jest obszar, na którym się znasz i chcesz go wykorzystać, dopisz go:                            47\n",
       "FinTech                                                                                                 0\n",
       "HealthTech                                                                                              0\n",
       "FashionTech                                                                                             0\n",
       "E-commerce                                                                                              0\n",
       "SportTech                                                                                               0\n",
       "Non-profit                                                                                              0\n",
       "PropTech (nieruchomości)                                                                                0\n",
       "Cybersecurity                                                                                           0\n",
       "HR                                                                                                      0\n",
       "Jeżeli pominięto branżę, na której się znasz dopisz ją:                                                50\n",
       "dtype: int64"
      ]
     },
     "execution_count": 23,
     "metadata": {},
     "output_type": "execute_result"
    }
   ],
   "source": [
    "df['W jaki sposób chcesz uczestniczyć w Community?'].value_counts()\n",
    "filtered_df1 = df[df['W jaki sposób chcesz uczestniczyć w Community?'] == 'Póki co chcę czerpać, obserwować, \"konsumować content\"']\n",
    "\n",
    "filtered_df = df.drop(filtered_df1.index)\n",
    "filtered_df.isna().sum()"
   ]
  },
  {
   "cell_type": "code",
   "execution_count": 2,
   "metadata": {},
   "outputs": [
    {
     "ename": "NameError",
     "evalue": "name 'filtered_df' is not defined",
     "output_type": "error",
     "traceback": [
      "\u001b[1;31m---------------------------------------------------------------------------\u001b[0m",
      "\u001b[1;31mNameError\u001b[0m                                 Traceback (most recent call last)",
      "Cell \u001b[1;32mIn[2], line 1\u001b[0m\n\u001b[1;32m----> 1\u001b[0m new_df \u001b[38;5;241m=\u001b[39m filtered_df\u001b[38;5;241m.\u001b[39mdrop([\u001b[38;5;124m'\u001b[39m\u001b[38;5;124mGodzina rozpoczęcia\u001b[39m\u001b[38;5;124m'\u001b[39m, \u001b[38;5;124m'\u001b[39m\u001b[38;5;124mGodzina ukończenia\u001b[39m\u001b[38;5;124m'\u001b[39m, \u001b[38;5;124m'\u001b[39m\u001b[38;5;124mCzas ostatniej modyfikacji\u001b[39m\u001b[38;5;124m'\u001b[39m], axis\u001b[38;5;241m=\u001b[39m\u001b[38;5;241m1\u001b[39m)\n\u001b[0;32m      3\u001b[0m new_df\u001b[38;5;241m.\u001b[39mhead()\n\u001b[0;32m      4\u001b[0m new_df\u001b[38;5;241m.\u001b[39misna()\u001b[38;5;241m.\u001b[39msum()\n",
      "\u001b[1;31mNameError\u001b[0m: name 'filtered_df' is not defined"
     ]
    }
   ],
   "source": [
    "new_df = filtered_df.drop(['Godzina rozpoczęcia', 'Godzina ukończenia', 'Czas ostatniej modyfikacji'], axis=1)\n",
    "\n",
    "new_df.head()\n",
    "new_df.isna().sum()\n",
    "record = new_df.loc[new_df['Programming: R'].isna()] # Record with missing values\n",
    "print(record)"
   ]
  },
  {
   "cell_type": "markdown",
   "metadata": {},
   "source": []
  }
 ],
 "metadata": {
  "kernelspec": {
   "display_name": "base",
   "language": "python",
   "name": "python3"
  },
  "language_info": {
   "codemirror_mode": {
    "name": "ipython",
    "version": 3
   },
   "file_extension": ".py",
   "mimetype": "text/x-python",
   "name": "python",
   "nbconvert_exporter": "python",
   "pygments_lexer": "ipython3",
   "version": "3.11.7"
  }
 },
 "nbformat": 4,
 "nbformat_minor": 2
}
